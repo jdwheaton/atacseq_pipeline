{
 "cells": [
  {
   "cell_type": "code",
   "execution_count": 1,
   "metadata": {},
   "outputs": [],
   "source": [
    "import pandas as pd\n",
    "import yaml\n",
    "import numpy as np"
   ]
  },
  {
   "cell_type": "markdown",
   "metadata": {},
   "source": [
    "Trying to find a way to quickly parse an SRA Metadata table into a YAML sample listing for input to my ATAC pipeline"
   ]
  },
  {
   "cell_type": "code",
   "execution_count": 32,
   "metadata": {},
   "outputs": [],
   "source": [
    "data = pd.read_csv(\"SraRunTable.txt-3.csv\")\n",
    "data = data.fillna('None')"
   ]
  },
  {
   "cell_type": "code",
   "execution_count": 44,
   "metadata": {},
   "outputs": [],
   "source": [
    "# This can be provided on the command line by a user, these will be aggregated into sample names in this order\n",
    "meta_cols = [\"Cell_type\", \"time_point\", \"treatment\", 'genotype/variation']"
   ]
  },
  {
   "cell_type": "code",
   "execution_count": 45,
   "metadata": {},
   "outputs": [],
   "source": [
    "data['condition'] = data[meta_cols].apply(lambda x:'-'.join(x), axis=1)"
   ]
  },
  {
   "cell_type": "code",
   "execution_count": 46,
   "metadata": {},
   "outputs": [],
   "source": [
    "# Remove spaces and the plus character\n",
    "data.condition = data.condition.str.replace(\" \", \"_\").str.replace(\"+\", \"\")"
   ]
  },
  {
   "cell_type": "code",
   "execution_count": 47,
   "metadata": {},
   "outputs": [],
   "source": [
    "# Switch to a multi-index with condition first, then Run ID (this enables aggregation)\n",
    "data_multiindex = data.sort_values(\"condition\").set_index([\"condition\", \"Run\"]).index"
   ]
  },
  {
   "cell_type": "code",
   "execution_count": 48,
   "metadata": {},
   "outputs": [],
   "source": [
    "d = {}\n",
    "for condition, sample in data_multiindex:\n",
    "    if condition not in d.keys():\n",
    "        d[condition] = []\n",
    "    d[condition].append(sample)"
   ]
  },
  {
   "cell_type": "code",
   "execution_count": 51,
   "metadata": {},
   "outputs": [],
   "source": [
    "config = {'samples' : d}\n",
    "with open('config.yml', 'a') as f:\n",
    "    f.write('\\n')\n",
    "    f.write(yaml.dump(config, default_flow_style=False))"
   ]
  },
  {
   "cell_type": "code",
   "execution_count": 49,
   "metadata": {},
   "outputs": [
    {
     "data": {
      "text/plain": [
       "{'Activated_CD4_T_cells-D1-IL6-BATFKO': ['SRR8269302', 'SRR8269298'],\n",
       " 'Activated_CD4_T_cells-D1-IL6-IRF4cKO': ['SRR8269310', 'SRR8269306'],\n",
       " 'Activated_CD4_T_cells-D1-IL6-wild-type': ['SRR8269297',\n",
       "  'SRR8269309',\n",
       "  'SRR8269316',\n",
       "  'SRR8269300',\n",
       "  'SRR8269305'],\n",
       " 'Activated_CD4_T_cells-D1-None-BATFKO': ['SRR8269301', 'SRR8269296'],\n",
       " 'Activated_CD4_T_cells-D1-None-IRF4cKO': ['SRR8269304', 'SRR8269308'],\n",
       " 'Activated_CD4_T_cells-D1-None-wild-type': ['SRR8269307',\n",
       "  'SRR8269303',\n",
       "  'SRR8269315',\n",
       "  'SRR8269299',\n",
       "  'SRR8269295'],\n",
       " 'Activated_CD4_T_cells-D4-IL6-wild-type': ['SRR8269318'],\n",
       " 'Activated_CD4_T_cells-D4-None-wild-type': ['SRR8269317'],\n",
       " 'Activated_CD4_T_cells-None-Th17-BATFKO': ['SRR8269294'],\n",
       " 'Activated_CD4_T_cells-None-Th17-wild-type': ['SRR8269293'],\n",
       " 'Naive_CD4_T_cells-None-None-BATFKO': ['SRR8269290', 'SRR8269292'],\n",
       " 'Naive_CD4_T_cells-None-None-wild-type': ['SRR8269289', 'SRR8269291'],\n",
       " 'Tfh_cells-None-None-BATFKO': ['SRR8269313', 'SRR8269314'],\n",
       " 'Tfh_cells-None-None-wild-type': ['SRR8269311', 'SRR8269312']}"
      ]
     },
     "execution_count": 49,
     "metadata": {},
     "output_type": "execute_result"
    }
   ],
   "source": [
    "d"
   ]
  },
  {
   "cell_type": "code",
   "execution_count": null,
   "metadata": {},
   "outputs": [],
   "source": []
  }
 ],
 "metadata": {
  "kernelspec": {
   "display_name": "py37",
   "language": "python",
   "name": "py37"
  },
  "language_info": {
   "codemirror_mode": {
    "name": "ipython",
    "version": 3
   },
   "file_extension": ".py",
   "mimetype": "text/x-python",
   "name": "python",
   "nbconvert_exporter": "python",
   "pygments_lexer": "ipython3",
   "version": "3.7.4"
  }
 },
 "nbformat": 4,
 "nbformat_minor": 2
}
