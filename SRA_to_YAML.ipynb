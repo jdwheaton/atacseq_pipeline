{
 "cells": [
  {
   "cell_type": "code",
   "execution_count": 52,
   "metadata": {},
   "outputs": [],
   "source": [
    "import pandas as pd\n",
    "import yaml\n",
    "import argparse"
   ]
  },
  {
   "cell_type": "markdown",
   "metadata": {},
   "source": [
    "Trying to find a way to quickly parse an SRA Metadata table into a YAML sample listing for input to my ATAC pipeline"
   ]
  },
  {
   "cell_type": "code",
   "execution_count": 64,
   "metadata": {},
   "outputs": [
    {
     "data": {
      "text/plain": [
       "_StoreAction(option_strings=['-g', '--group'], dest='group', nargs='+', const=None, default=None, type=<class 'str'>, choices=None, help='Column names for grouping variables', metavar=None)"
      ]
     },
     "execution_count": 64,
     "metadata": {},
     "output_type": "execute_result"
    }
   ],
   "source": [
    "parser = argparse.ArgumentParser()\n",
    "parser.add_argument(\"-m\", \"--metadata\", type=str, metavar=\"<csv_file>\", nargs=1, required=True,\n",
    "                   help=\"CSV file containing metadata\")\n",
    "parser.add_argument(\"-i\", \"--id_var\", type=str, nargs=1, required=True,\n",
    "                   help=\"Column name for ID variable identifying individual files (i.e. SRR Run)\")\n",
    "parser.add_argument(\"-g\", \"--group\", type=str, nargs='+', required=True,\n",
    "                   help=\"Column names for grouping variables\")"
   ]
  },
  {
   "cell_type": "code",
   "execution_count": 67,
   "metadata": {},
   "outputs": [
    {
     "data": {
      "text/plain": [
       "Namespace(group=['genotype', 'cell_type'], id_var=['Run'], metadata=['xxx.csv'])"
      ]
     },
     "execution_count": 67,
     "metadata": {},
     "output_type": "execute_result"
    }
   ],
   "source": [
    "parser.parse_args(\"-m xxx.csv -i Run -g genotype cell_type\".split(\" \"))"
   ]
  },
  {
   "cell_type": "code",
   "execution_count": 32,
   "metadata": {},
   "outputs": [],
   "source": [
    "data = pd.read_csv(\"SraRunTable.txt-3.csv\")\n",
    "data = data.fillna('None')"
   ]
  },
  {
   "cell_type": "code",
   "execution_count": 44,
   "metadata": {},
   "outputs": [],
   "source": [
    "# This can be provided on the command line by a user, these will be aggregated into sample names in this order\n",
    "meta_cols = [\"Cell_type\", \"time_point\", \"treatment\", 'genotype/variation']"
   ]
  },
  {
   "cell_type": "code",
   "execution_count": 45,
   "metadata": {},
   "outputs": [],
   "source": [
    "data['condition'] = data[meta_cols].apply(lambda x:'-'.join(x), axis=1)"
   ]
  },
  {
   "cell_type": "code",
   "execution_count": 46,
   "metadata": {},
   "outputs": [],
   "source": [
    "# Remove spaces and the plus character\n",
    "data.condition = data.condition.str.replace(\" \", \"_\").str.replace(\"+\", \"\")"
   ]
  },
  {
   "cell_type": "code",
   "execution_count": 47,
   "metadata": {},
   "outputs": [],
   "source": [
    "# Switch to a multi-index with condition first, then Run ID (this enables aggregation)\n",
    "data_multiindex = data.sort_values(\"condition\").set_index([\"condition\", \"Run\"]).index"
   ]
  },
  {
   "cell_type": "code",
   "execution_count": 48,
   "metadata": {},
   "outputs": [],
   "source": [
    "d = {}\n",
    "for condition, sample in data_multiindex:\n",
    "    if condition not in d.keys():\n",
    "        d[condition] = []\n",
    "    d[condition].append(sample)"
   ]
  },
  {
   "cell_type": "code",
   "execution_count": 51,
   "metadata": {},
   "outputs": [],
   "source": [
    "config = {'samples' : d}\n",
    "with open('config.yml', 'a') as f:\n",
    "    f.write('\\n')\n",
    "    f.write(yaml.dump(config, default_flow_style=False))"
   ]
  },
  {
   "cell_type": "code",
   "execution_count": null,
   "metadata": {},
   "outputs": [],
   "source": []
  }
 ],
 "metadata": {
  "kernelspec": {
   "display_name": "py37",
   "language": "python",
   "name": "py37"
  },
  "language_info": {
   "codemirror_mode": {
    "name": "ipython",
    "version": 3
   },
   "file_extension": ".py",
   "mimetype": "text/x-python",
   "name": "python",
   "nbconvert_exporter": "python",
   "pygments_lexer": "ipython3",
   "version": "3.7.4"
  }
 },
 "nbformat": 4,
 "nbformat_minor": 2
}
